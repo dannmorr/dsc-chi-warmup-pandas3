{
 "cells": [
  {
   "cell_type": "markdown",
   "metadata": {},
   "source": [
    "# Reshape Pandas Warmup\n",
    "\n",
    "![](viz/pandas_exercise.gif)"
   ]
  },
  {
   "cell_type": "markdown",
   "metadata": {},
   "source": [
    "Don't worry about completing this if you're in a time-crunch with other material!  The strong panda will be here when you get back."
   ]
  },
  {
   "cell_type": "code",
   "execution_count": 1,
   "metadata": {},
   "outputs": [],
   "source": [
    "# Run this cell w/o changes to load tests\n",
    "\n",
    "from test_background import pkl_dump, test_obj_dict, run_test_dict, run_test"
   ]
  },
  {
   "cell_type": "markdown",
   "metadata": {},
   "source": [
    "## Imports\n",
    "\n",
    "Import:\n",
    "- Pandas as the alias pd\n",
    "\n",
    "- Numpy as the alias np\n",
    "\n",
    "- Matplotlib.pyplot as the alias plt\n",
    "\n",
    "Run %matplotlib inline"
   ]
  },
  {
   "cell_type": "code",
   "execution_count": 2,
   "metadata": {},
   "outputs": [
    {
     "name": "stderr",
     "output_type": "stream",
     "text": [
      "\n",
      "Bad key \"text.kerning_factor\" on line 4 in\n",
      "/opt/anaconda3/envs/learn-env/lib/python3.6/site-packages/matplotlib/mpl-data/stylelib/_classic_test_patch.mplstyle.\n",
      "You probably need to get an updated matplotlibrc file from\n",
      "https://github.com/matplotlib/matplotlib/blob/v3.1.3/matplotlibrc.template\n",
      "or from the matplotlib source distribution\n"
     ]
    }
   ],
   "source": [
    "#Your code here\n",
    "import pandas as pd\n",
    "import numpy as np\n",
    "import matplotlib.pyplot as plt\n",
    "%matplotlib inline"
   ]
  },
  {
   "cell_type": "markdown",
   "metadata": {},
   "source": [
    "Read in the csv 'econ_stats' from the data folder as a dataframe\n",
    "\n",
    "Assign it to the variable econ_stats"
   ]
  },
  {
   "cell_type": "code",
   "execution_count": 3,
   "metadata": {},
   "outputs": [
    {
     "name": "stdout",
     "output_type": "stream",
     "text": [
      "README.md          \u001b[34mdata\u001b[m\u001b[m               test_background.py \u001b[34mviz\u001b[m\u001b[m\n",
      "\u001b[34m__pycache__\u001b[m\u001b[m        index.ipynb        \u001b[34mtest_objects\u001b[m\u001b[m\n"
     ]
    }
   ],
   "source": [
    "!ls"
   ]
  },
  {
   "cell_type": "code",
   "execution_count": 4,
   "metadata": {},
   "outputs": [],
   "source": [
    "#Your code here\n",
    "econ_stats = pd.read_csv('./data/econ_stats.csv')"
   ]
  },
  {
   "cell_type": "markdown",
   "metadata": {},
   "source": [
    "## Data Exploration"
   ]
  },
  {
   "cell_type": "markdown",
   "metadata": {},
   "source": [
    "Take a look at `econ_stats.head()`, `econ_stats.info()` and `econ_stats.describe(include='all')`\n",
    "\n",
    "How many unique values are in the categorical variables `Country` and `Stat`?  If some repeat, what are they?\n",
    "\n",
    "How many unique values in the numerical variables `Year` and `Data`?  If some repeat, what are they?\n",
    "\n",
    "How does the data appear to be organized?"
   ]
  },
  {
   "cell_type": "code",
   "execution_count": 5,
   "metadata": {},
   "outputs": [
    {
     "name": "stdout",
     "output_type": "stream",
     "text": [
      "  Country  Year                  Stat       Data\n",
      "0      US  1956  Domestic Wheat Price  22.981728\n",
      "1      US  1956         Wheat Exports  80.327631\n",
      "2      US  1956         Wheat Imports  54.982899\n",
      "3      US  1957  Domestic Wheat Price  50.507799\n",
      "4      US  1957         Wheat Exports  54.024780\n",
      "<class 'pandas.core.frame.DataFrame'>\n",
      "RangeIndex: 150 entries, 0 to 149\n",
      "Data columns (total 4 columns):\n",
      " #   Column   Non-Null Count  Dtype  \n",
      "---  ------   --------------  -----  \n",
      " 0   Country  150 non-null    object \n",
      " 1   Year     150 non-null    int64  \n",
      " 2   Stat     150 non-null    object \n",
      " 3   Data     150 non-null    float64\n",
      "dtypes: float64(1), int64(1), object(2)\n",
      "memory usage: 4.8+ KB\n",
      "None\n",
      "       Country         Year                  Stat        Data\n",
      "count      150   150.000000                   150  150.000000\n",
      "unique       5          NaN                     3         NaN\n",
      "top         US          NaN  Domestic Wheat Price         NaN\n",
      "freq        30          NaN                    50         NaN\n",
      "mean       NaN  1960.500000                   NaN   82.056109\n",
      "std        NaN     2.881904                   NaN   33.415946\n",
      "min        NaN  1956.000000                   NaN    8.157261\n",
      "25%        NaN  1958.000000                   NaN   58.285550\n",
      "50%        NaN  1960.500000                   NaN   81.394829\n",
      "75%        NaN  1963.000000                   NaN  106.787937\n",
      "max        NaN  1965.000000                   NaN  154.399830\n",
      "There are 5 unique values in Country\n",
      "There are 10 unique values in Year\n",
      "There are 3 unique values in Stat\n",
      "There are 150 unique values in Data\n",
      "\n",
      "There are 5 unique values in 'Country' ['US' 'UK' 'Soviet Union' 'China' 'France']\n",
      "\n",
      "3 in 'Stat' ['Domestic Wheat Price' 'Wheat Exports' 'Wheat Imports']\n",
      "\n",
      "10 in 'Year' [1956 1957 1958 1959 1960 1961 1962 1963 1964 1965]\n",
      "\n",
      "and 150 in 'Data'\n",
      "\n",
      "For every year b/t 1956 and 1965, there are 5 countries and 3 statistics for which there is a \n",
      "unique piece of data\n",
      "\n"
     ]
    }
   ],
   "source": [
    "print(econ_stats.head())\n",
    "print(econ_stats.info())\n",
    "print(econ_stats.describe(include='all'))\n",
    "\n",
    "for column in econ_stats.columns:\n",
    "    print(f'There are {len(econ_stats[column].unique())} unique values in {column}')\n",
    "\n",
    "print(f'''\n",
    "There are {len(econ_stats.Country.unique())} unique values in 'Country' {econ_stats.Country.unique()}\n",
    "\n",
    "{len(econ_stats.Stat.unique())} in 'Stat' {econ_stats.Stat.unique()}\n",
    "\n",
    "{len(econ_stats.Year.unique())} in 'Year' {econ_stats.Year.unique()}\n",
    "\n",
    "and {len(econ_stats.Data.unique())} in 'Data'\n",
    "\n",
    "For every year b/t 1956 and 1965, there are 5 countries and 3 statistics for which there is a \n",
    "unique piece of data\n",
    "''')"
   ]
  },
  {
   "cell_type": "markdown",
   "metadata": {},
   "source": [
    "## Data Reshaping"
   ]
  },
  {
   "cell_type": "markdown",
   "metadata": {},
   "source": [
    "In order to make this data easier to manipulate and analyze, we want to turn it from \"long\" to \"wide\"\n",
    "\n",
    "In other words, we want to make each row an observation which has:\n",
    "- 1 country\n",
    "- 1 year\n",
    "- data values for each of the 3 stats\n",
    "\n"
   ]
  },
  {
   "cell_type": "markdown",
   "metadata": {},
   "source": [
    "making a total of 5 columns\n",
    "\n",
    "We already have \"Country\" and \"Year\", so let's work on making the additional 3 columns.\n",
    "\n",
    "In class, we've gone over `.pivot()` to reshape.\n",
    "\n",
    "We're going to make each of these three columns a different way.  "
   ]
  },
  {
   "cell_type": "markdown",
   "metadata": {},
   "source": [
    "## Way 1: list comprehension \n",
    "\n",
    "To make the `Domestic Wheat Price` column, do the following:\n",
    "\n",
    "- create a column named `Domestic Wheat Price` that is filled with nulls\n",
    "- write a function that:\n",
    "    - takes input parameters `row`, `df`\n",
    "    - finds the `Year` value in `df` for that `row`\n",
    "    - finds the `Country` in `df` for that `row`\n",
    "    - finds the value of `Domestic Wheat Price` in `df` for those `Year` and `Country` values\n",
    "    - returns that value\n",
    "- make a list comprehension that uses your function to fill `Domestic Wheat Price`\n",
    "- check to make sure `Domestic Wheat Price` no longer has nulls!"
   ]
  },
  {
   "cell_type": "markdown",
   "metadata": {},
   "source": [
    "(notice that there are repeat values in `Domestic Wheat Price`, because we have multiple rows with the same country and year values)"
   ]
  },
  {
   "cell_type": "code",
   "execution_count": 6,
   "metadata": {},
   "outputs": [
    {
     "data": {
      "text/html": [
       "<div>\n",
       "<style scoped>\n",
       "    .dataframe tbody tr th:only-of-type {\n",
       "        vertical-align: middle;\n",
       "    }\n",
       "\n",
       "    .dataframe tbody tr th {\n",
       "        vertical-align: top;\n",
       "    }\n",
       "\n",
       "    .dataframe thead th {\n",
       "        text-align: right;\n",
       "    }\n",
       "</style>\n",
       "<table border=\"1\" class=\"dataframe\">\n",
       "  <thead>\n",
       "    <tr style=\"text-align: right;\">\n",
       "      <th></th>\n",
       "      <th>Country</th>\n",
       "      <th>Year</th>\n",
       "      <th>Stat</th>\n",
       "      <th>Data</th>\n",
       "      <th>Domestic Wheat Price</th>\n",
       "    </tr>\n",
       "  </thead>\n",
       "  <tbody>\n",
       "    <tr>\n",
       "      <th>0</th>\n",
       "      <td>US</td>\n",
       "      <td>1956</td>\n",
       "      <td>Domestic Wheat Price</td>\n",
       "      <td>22.981728</td>\n",
       "      <td>NaN</td>\n",
       "    </tr>\n",
       "    <tr>\n",
       "      <th>1</th>\n",
       "      <td>US</td>\n",
       "      <td>1956</td>\n",
       "      <td>Wheat Exports</td>\n",
       "      <td>80.327631</td>\n",
       "      <td>NaN</td>\n",
       "    </tr>\n",
       "    <tr>\n",
       "      <th>2</th>\n",
       "      <td>US</td>\n",
       "      <td>1956</td>\n",
       "      <td>Wheat Imports</td>\n",
       "      <td>54.982899</td>\n",
       "      <td>NaN</td>\n",
       "    </tr>\n",
       "    <tr>\n",
       "      <th>3</th>\n",
       "      <td>US</td>\n",
       "      <td>1957</td>\n",
       "      <td>Domestic Wheat Price</td>\n",
       "      <td>50.507799</td>\n",
       "      <td>NaN</td>\n",
       "    </tr>\n",
       "    <tr>\n",
       "      <th>4</th>\n",
       "      <td>US</td>\n",
       "      <td>1957</td>\n",
       "      <td>Wheat Exports</td>\n",
       "      <td>54.024780</td>\n",
       "      <td>NaN</td>\n",
       "    </tr>\n",
       "  </tbody>\n",
       "</table>\n",
       "</div>"
      ],
      "text/plain": [
       "  Country  Year                  Stat       Data  Domestic Wheat Price\n",
       "0      US  1956  Domestic Wheat Price  22.981728                   NaN\n",
       "1      US  1956         Wheat Exports  80.327631                   NaN\n",
       "2      US  1956         Wheat Imports  54.982899                   NaN\n",
       "3      US  1957  Domestic Wheat Price  50.507799                   NaN\n",
       "4      US  1957         Wheat Exports  54.024780                   NaN"
      ]
     },
     "execution_count": 6,
     "metadata": {},
     "output_type": "execute_result"
    }
   ],
   "source": [
    "econ_stats['Domestic Wheat Price'] = np.nan\n",
    "\n",
    "econ_stats.head()"
   ]
  },
  {
   "cell_type": "code",
   "execution_count": 12,
   "metadata": {},
   "outputs": [
    {
     "name": "stdout",
     "output_type": "stream",
     "text": [
      "There are nulls in \"Domestic Wheat Price\": False\n"
     ]
    },
    {
     "data": {
      "text/html": [
       "<div>\n",
       "<style scoped>\n",
       "    .dataframe tbody tr th:only-of-type {\n",
       "        vertical-align: middle;\n",
       "    }\n",
       "\n",
       "    .dataframe tbody tr th {\n",
       "        vertical-align: top;\n",
       "    }\n",
       "\n",
       "    .dataframe thead th {\n",
       "        text-align: right;\n",
       "    }\n",
       "</style>\n",
       "<table border=\"1\" class=\"dataframe\">\n",
       "  <thead>\n",
       "    <tr style=\"text-align: right;\">\n",
       "      <th></th>\n",
       "      <th>Country</th>\n",
       "      <th>Year</th>\n",
       "      <th>Stat</th>\n",
       "      <th>Data</th>\n",
       "      <th>Domestic Wheat Price</th>\n",
       "      <th>Wheat Exports_x</th>\n",
       "      <th>Wheat Exports_y</th>\n",
       "      <th>Wheat Exports_y</th>\n",
       "    </tr>\n",
       "  </thead>\n",
       "  <tbody>\n",
       "    <tr>\n",
       "      <th>0</th>\n",
       "      <td>China</td>\n",
       "      <td>1956</td>\n",
       "      <td>Domestic Wheat Price</td>\n",
       "      <td>81.933098</td>\n",
       "      <td>81.933098</td>\n",
       "      <td>56.343518</td>\n",
       "      <td>56.343518</td>\n",
       "      <td>56.343518</td>\n",
       "    </tr>\n",
       "    <tr>\n",
       "      <th>1</th>\n",
       "      <td>China</td>\n",
       "      <td>1956</td>\n",
       "      <td>Wheat Exports</td>\n",
       "      <td>56.343518</td>\n",
       "      <td>81.933098</td>\n",
       "      <td>56.343518</td>\n",
       "      <td>56.343518</td>\n",
       "      <td>56.343518</td>\n",
       "    </tr>\n",
       "    <tr>\n",
       "      <th>2</th>\n",
       "      <td>China</td>\n",
       "      <td>1956</td>\n",
       "      <td>Wheat Imports</td>\n",
       "      <td>49.741995</td>\n",
       "      <td>81.933098</td>\n",
       "      <td>56.343518</td>\n",
       "      <td>56.343518</td>\n",
       "      <td>56.343518</td>\n",
       "    </tr>\n",
       "    <tr>\n",
       "      <th>3</th>\n",
       "      <td>China</td>\n",
       "      <td>1957</td>\n",
       "      <td>Domestic Wheat Price</td>\n",
       "      <td>74.558164</td>\n",
       "      <td>74.558164</td>\n",
       "      <td>79.839552</td>\n",
       "      <td>79.839552</td>\n",
       "      <td>79.839552</td>\n",
       "    </tr>\n",
       "    <tr>\n",
       "      <th>4</th>\n",
       "      <td>China</td>\n",
       "      <td>1957</td>\n",
       "      <td>Wheat Exports</td>\n",
       "      <td>79.839552</td>\n",
       "      <td>74.558164</td>\n",
       "      <td>79.839552</td>\n",
       "      <td>79.839552</td>\n",
       "      <td>79.839552</td>\n",
       "    </tr>\n",
       "  </tbody>\n",
       "</table>\n",
       "</div>"
      ],
      "text/plain": [
       "  Country  Year                  Stat       Data  Domestic Wheat Price  \\\n",
       "0   China  1956  Domestic Wheat Price  81.933098             81.933098   \n",
       "1   China  1956         Wheat Exports  56.343518             81.933098   \n",
       "2   China  1956         Wheat Imports  49.741995             81.933098   \n",
       "3   China  1957  Domestic Wheat Price  74.558164             74.558164   \n",
       "4   China  1957         Wheat Exports  79.839552             74.558164   \n",
       "\n",
       "   Wheat Exports_x  Wheat Exports_y  Wheat Exports_y  \n",
       "0        56.343518        56.343518        56.343518  \n",
       "1        56.343518        56.343518        56.343518  \n",
       "2        56.343518        56.343518        56.343518  \n",
       "3        79.839552        79.839552        79.839552  \n",
       "4        79.839552        79.839552        79.839552  "
      ]
     },
     "execution_count": 12,
     "metadata": {},
     "output_type": "execute_result"
    }
   ],
   "source": [
    "def fill_price(row, df):\n",
    "    \n",
    "    '''\n",
    "    row-wise grabbing of 'Domestic Wheat Price' value\n",
    "    \n",
    "    Paramters: \n",
    "        row: specific row to grab information from\n",
    "        df: dataframe w/ \"Country\", \"Year\", \"Stat\" and \"Data\" columns\n",
    "            'Stat' must include \"Domestic Wheat Price\", with value in the \"Data\" column\n",
    "            \n",
    "    output: value of 'Stat' column for 'Domestic Wheat Price' for \n",
    "    values matching the Country and Year of given row\n",
    "    \n",
    "    \n",
    "    '''\n",
    "    row_year = df['Year'][row]\n",
    "    \n",
    "    row_country = df['Country'][row]\n",
    "    \n",
    "    mask = (\n",
    "        (df['Year']==row_year) &\n",
    "        (df['Country']==row_country) &\n",
    "        (df['Stat']=='Domestic Wheat Price')\n",
    "    )\n",
    "    \n",
    "    price = df[mask]['Data'].values[0]\n",
    "    \n",
    "    return price\n",
    "\n",
    "econ_stats['Domestic Wheat Price'] = [\n",
    "    fill_price(row, econ_stats) \n",
    "    for row \n",
    "    in econ_stats.index\n",
    "]\n",
    "\n",
    "print('There are nulls in \"Domestic Wheat Price\": {}'\n",
    "      .format(\n",
    "          econ_stats['Domestic Wheat Price']\n",
    "          .isnull()\n",
    "          .values\n",
    "          .any()\n",
    "      )\n",
    ")\n",
    "\n",
    "econ_stats.head()"
   ]
  },
  {
   "cell_type": "code",
   "execution_count": 13,
   "metadata": {},
   "outputs": [
    {
     "data": {
      "text/plain": [
       "'Try again'"
      ]
     },
     "execution_count": 13,
     "metadata": {},
     "output_type": "execute_result"
    }
   ],
   "source": [
    "#run this cell to check your work\n",
    "\n",
    "run_test(econ_stats['Domestic Wheat Price'], 'domestic_wheat_price_column')"
   ]
  },
  {
   "cell_type": "markdown",
   "metadata": {},
   "source": [
    "## Way 2: Split-Apply-Combine\n",
    "\n",
    "To make the `Wheat Exports` column, do the following:\n",
    "\n",
    "- create an empty list called `dfs`\n",
    "- create a `for loop` cycling through the unique `Country` names\n",
    "- inside the loop, for each country:\n",
    "    - Assign to a variable `temp` all rows from `econ_stats` where:\n",
    "        - the value in the `Country` column is the country in the current loop\n",
    "        - the value in the `Stat` column is 'Wheat Exports'\n",
    "    - Rename the `data` column to 'Wheat Exports'\n",
    "    - drop extraneous columns (everything but `Country`, `Year` and `Wheat Exports`) from `temp`\n",
    "    - Append `temp` to `dfs`\n",
    "- check to make sure you have all the dataframes you expect to have in `dfs`\n",
    "- assign to `wheat_exports` the [concatenation](https://pandas.pydata.org/pandas-docs/version/0.25.0/reference/api/pandas.concat.html) of all the dataframes inside of `dfs` \n",
    "- merge `wheat_exports_frames` with `econ_stats`, using `Country` and `Year` as the keys\n",
    "- sort `econ_stats` by `Country` and `Year`\n",
    "- reset the index (this will become clearer why in the method below) without appending the old index as a column (ie make the `drop` parameter `True`)"
   ]
  },
  {
   "cell_type": "code",
   "execution_count": 14,
   "metadata": {},
   "outputs": [
    {
     "name": "stdout",
     "output_type": "stream",
     "text": [
      "Expect 5 frames, have 5\n"
     ]
    },
    {
     "name": "stderr",
     "output_type": "stream",
     "text": [
      "/opt/anaconda3/envs/learn-env/lib/python3.6/site-packages/pandas/core/frame.py:4133: SettingWithCopyWarning: \n",
      "A value is trying to be set on a copy of a slice from a DataFrame\n",
      "\n",
      "See the caveats in the documentation: https://pandas.pydata.org/pandas-docs/stable/user_guide/indexing.html#returning-a-view-versus-a-copy\n",
      "  errors=errors,\n",
      "/opt/anaconda3/envs/learn-env/lib/python3.6/site-packages/pandas/core/frame.py:3997: SettingWithCopyWarning: \n",
      "A value is trying to be set on a copy of a slice from a DataFrame\n",
      "\n",
      "See the caveats in the documentation: https://pandas.pydata.org/pandas-docs/stable/user_guide/indexing.html#returning-a-view-versus-a-copy\n",
      "  errors=errors,\n"
     ]
    },
    {
     "data": {
      "text/html": [
       "<div>\n",
       "<style scoped>\n",
       "    .dataframe tbody tr th:only-of-type {\n",
       "        vertical-align: middle;\n",
       "    }\n",
       "\n",
       "    .dataframe tbody tr th {\n",
       "        vertical-align: top;\n",
       "    }\n",
       "\n",
       "    .dataframe thead th {\n",
       "        text-align: right;\n",
       "    }\n",
       "</style>\n",
       "<table border=\"1\" class=\"dataframe\">\n",
       "  <thead>\n",
       "    <tr style=\"text-align: right;\">\n",
       "      <th></th>\n",
       "      <th>Country</th>\n",
       "      <th>Year</th>\n",
       "      <th>Stat</th>\n",
       "      <th>Data</th>\n",
       "      <th>Domestic Wheat Price</th>\n",
       "      <th>Wheat Exports_x_x</th>\n",
       "      <th>Wheat Exports_y_x</th>\n",
       "      <th>Wheat Exports_y_x</th>\n",
       "      <th>Wheat Exports</th>\n",
       "      <th>Wheat Exports_x_y</th>\n",
       "      <th>Wheat Exports_y_y</th>\n",
       "      <th>Wheat Exports_y_y</th>\n",
       "    </tr>\n",
       "  </thead>\n",
       "  <tbody>\n",
       "    <tr>\n",
       "      <th>0</th>\n",
       "      <td>China</td>\n",
       "      <td>1956</td>\n",
       "      <td>Domestic Wheat Price</td>\n",
       "      <td>81.933098</td>\n",
       "      <td>81.933098</td>\n",
       "      <td>56.343518</td>\n",
       "      <td>56.343518</td>\n",
       "      <td>56.343518</td>\n",
       "      <td>56.343518</td>\n",
       "      <td>56.343518</td>\n",
       "      <td>56.343518</td>\n",
       "      <td>56.343518</td>\n",
       "    </tr>\n",
       "    <tr>\n",
       "      <th>1</th>\n",
       "      <td>China</td>\n",
       "      <td>1956</td>\n",
       "      <td>Wheat Exports</td>\n",
       "      <td>56.343518</td>\n",
       "      <td>81.933098</td>\n",
       "      <td>56.343518</td>\n",
       "      <td>56.343518</td>\n",
       "      <td>56.343518</td>\n",
       "      <td>56.343518</td>\n",
       "      <td>56.343518</td>\n",
       "      <td>56.343518</td>\n",
       "      <td>56.343518</td>\n",
       "    </tr>\n",
       "    <tr>\n",
       "      <th>2</th>\n",
       "      <td>China</td>\n",
       "      <td>1956</td>\n",
       "      <td>Wheat Imports</td>\n",
       "      <td>49.741995</td>\n",
       "      <td>81.933098</td>\n",
       "      <td>56.343518</td>\n",
       "      <td>56.343518</td>\n",
       "      <td>56.343518</td>\n",
       "      <td>56.343518</td>\n",
       "      <td>56.343518</td>\n",
       "      <td>56.343518</td>\n",
       "      <td>56.343518</td>\n",
       "    </tr>\n",
       "    <tr>\n",
       "      <th>3</th>\n",
       "      <td>China</td>\n",
       "      <td>1957</td>\n",
       "      <td>Domestic Wheat Price</td>\n",
       "      <td>74.558164</td>\n",
       "      <td>74.558164</td>\n",
       "      <td>79.839552</td>\n",
       "      <td>79.839552</td>\n",
       "      <td>79.839552</td>\n",
       "      <td>79.839552</td>\n",
       "      <td>79.839552</td>\n",
       "      <td>79.839552</td>\n",
       "      <td>79.839552</td>\n",
       "    </tr>\n",
       "    <tr>\n",
       "      <th>4</th>\n",
       "      <td>China</td>\n",
       "      <td>1957</td>\n",
       "      <td>Wheat Exports</td>\n",
       "      <td>79.839552</td>\n",
       "      <td>74.558164</td>\n",
       "      <td>79.839552</td>\n",
       "      <td>79.839552</td>\n",
       "      <td>79.839552</td>\n",
       "      <td>79.839552</td>\n",
       "      <td>79.839552</td>\n",
       "      <td>79.839552</td>\n",
       "      <td>79.839552</td>\n",
       "    </tr>\n",
       "  </tbody>\n",
       "</table>\n",
       "</div>"
      ],
      "text/plain": [
       "  Country  Year                  Stat       Data  Domestic Wheat Price  \\\n",
       "0   China  1956  Domestic Wheat Price  81.933098             81.933098   \n",
       "1   China  1956         Wheat Exports  56.343518             81.933098   \n",
       "2   China  1956         Wheat Imports  49.741995             81.933098   \n",
       "3   China  1957  Domestic Wheat Price  74.558164             74.558164   \n",
       "4   China  1957         Wheat Exports  79.839552             74.558164   \n",
       "\n",
       "   Wheat Exports_x_x  Wheat Exports_y_x  Wheat Exports_y_x  Wheat Exports  \\\n",
       "0          56.343518          56.343518          56.343518      56.343518   \n",
       "1          56.343518          56.343518          56.343518      56.343518   \n",
       "2          56.343518          56.343518          56.343518      56.343518   \n",
       "3          79.839552          79.839552          79.839552      79.839552   \n",
       "4          79.839552          79.839552          79.839552      79.839552   \n",
       "\n",
       "   Wheat Exports_x_y  Wheat Exports_y_y  Wheat Exports_y_y  \n",
       "0          56.343518          56.343518          56.343518  \n",
       "1          56.343518          56.343518          56.343518  \n",
       "2          56.343518          56.343518          56.343518  \n",
       "3          79.839552          79.839552          79.839552  \n",
       "4          79.839552          79.839552          79.839552  "
      ]
     },
     "execution_count": 14,
     "metadata": {},
     "output_type": "execute_result"
    }
   ],
   "source": [
    "#Your code here\n",
    "dfs = []\n",
    "\n",
    "for country in econ_stats.Country.unique():\n",
    "    mask = (\n",
    "        (econ_stats['Country']== country) &\n",
    "        (econ_stats['Stat'] == 'Wheat Exports')\n",
    "    )\n",
    "    \n",
    "    temp = econ_stats[mask]\n",
    "    \n",
    "    temp.rename(columns={'Data':'Wheat Exports'}, inplace=True)\n",
    "    temp.drop(['Stat', 'Domestic Wheat Price'], axis=1, inplace=True)\n",
    "    \n",
    "    dfs.append(temp)\n",
    "    \n",
    "print(f'Expect 5 frames, have {len(dfs)}')    \n",
    "\n",
    "wheat_exports = pd.concat(dfs)\n",
    "\n",
    "econ_stats = pd.merge(\n",
    "    econ_stats, wheat_exports, \n",
    "    how='inner', \n",
    "    on=['Country', 'Year']\n",
    ")\n",
    "\n",
    "econ_stats.sort_values(['Country', 'Year'], inplace=True)\n",
    "\n",
    "econ_stats.reset_index(inplace=True, drop=True)\n",
    "#econ_stats = econ_stats[['Country', 'Year', 'Stat', 'Data', 'Domestic Wheat Price', 'Wheat Exports']]\n",
    "\n",
    "econ_stats.head()"
   ]
  },
  {
   "cell_type": "code",
   "execution_count": 15,
   "metadata": {},
   "outputs": [
    {
     "data": {
      "text/plain": [
       "'Hey, you did it.  Good job.'"
      ]
     },
     "execution_count": 15,
     "metadata": {},
     "output_type": "execute_result"
    }
   ],
   "source": [
    "#run this cell to check your work\n",
    "\n",
    "run_test(econ_stats['Wheat Exports'], 'wheat_exports_column')"
   ]
  },
  {
   "cell_type": "markdown",
   "metadata": {},
   "source": [
    "## Way 3: .where()\n",
    "\n",
    "[`.where()`](https://pandas.pydata.org/pandas-docs/version/0.25.2/reference/api/pandas.Series.where.html) is a *fast* way to replace values of one series or dataframe based on boolean conditionals.\n",
    "\n",
    "In our case, we want to make a new column `Wheat Imports` that:\n",
    "- has the value of `Data` when `Stat` == `\"Wheat Imports\"`\n",
    "- replaces the values of `Data` where `Stat` != `\"Wheat Imports\"` with the values of `Data` when `Stat` == `\"Wheat Imports\"` (for the right `Country`/`Year` combination)\n",
    "\n",
    "`.where()` as a method takes two parameters:\n",
    "- a series or dataframe of `True` or `False` statements\n",
    "- a replacement object to take substitute values from when the statments are `False`\n",
    "\n",
    "It works like this: \n",
    "- at indices where the first argument is `True`, the value in the original column at that index is kept. \n",
    "- at indices where the first argument is `False`, the value from the second argument at that index is substituted.   \n",
    "\n",
    "Both parameters can be a series or a dataframe.  \n",
    "\n",
    "*Ex: `a` = pd.Series([1,2,3,4,5,6]), `b` = pd.Series([0,-1,-2,-3,-4,-5])*\n",
    "\n",
    "*`a.where(a%2==0, b)` = 0,2,-2,4,-4,6*\n",
    "\n",
    "<i>\"At indices where the value of `a` at that index is divisible by 2, keep the value of `a` at that index. At indices where the `a` value is not divisible by 2, substitute the value of `b` at that index.\"</i>\n",
    "\n",
    "To make the `Wheat Imports` column:\n",
    "- append the `.where()` method to `econ_stats['Data']`\n",
    "- for the first argument - a series or dataframe which has `True`/`False` statements at every value - create a series where each value states whether the `Stat` column at that index is equal to `\"Wheat Imports\"`.  \n",
    "\n",
    "*Hint: you would use this series to filter `econ_stats` to show rows where `Stat`==`\"Wheat Imports\"`*\n",
    "\n",
    "- where this series is `True`, the value at that index of `Data` will be kept.\n",
    "- to create the series (the values of `Data` where `Stat`==`\"Wheat Imports\"`) to use as the second argument:\n",
    "    - filter `econ_stats` to only show rows where `Stat` has the value of `Wheat Imports`\n",
    "    - select the 'Data' column from that frame\n",
    "    - [repeat](https://pandas.pydata.org/pandas-docs/version/0.25.0/reference/api/pandas.Series.repeat.html) the values 3 times (why?)\n",
    "    - reset the index (why?)\n",
    "    - select the `Data` column from that frame\n",
    "- remember to assign the `econ_stats['Data'].where()` expression you made to `econ_stats['Wheat Imports']`\n",
    "\n",
    "Make sure the frame is still sorted by `Country` and `Year` when you're done"
   ]
  },
  {
   "cell_type": "code",
   "execution_count": 15,
   "metadata": {},
   "outputs": [],
   "source": [
    "#Your code here"
   ]
  },
  {
   "cell_type": "code",
   "execution_count": 26,
   "metadata": {},
   "outputs": [],
   "source": [
    "#run this cell to test your work\n",
    "\n",
    "run_test(econ_stats['Wheat Imports'], 'wheat_imports_column')"
   ]
  },
  {
   "cell_type": "markdown",
   "metadata": {},
   "source": [
    "## Drop \n",
    "\n",
    "The `Stat` and `Data` columns are now redundant; drop 'em\n",
    "\n",
    "We now have a bunch of duplicated rows\n",
    "\n",
    "- Find the number of duplicated rows\n",
    "- Drop the duplicated rows\n",
    "- Make sure the resulting dataframe has the number of rows you expect"
   ]
  },
  {
   "cell_type": "code",
   "execution_count": 18,
   "metadata": {},
   "outputs": [],
   "source": [
    "#Your code here"
   ]
  },
  {
   "cell_type": "code",
   "execution_count": 25,
   "metadata": {},
   "outputs": [],
   "source": [
    "#run this cell to test your work\n",
    "run_test(econ_stats, 'dropped_rows')"
   ]
  },
  {
   "cell_type": "markdown",
   "metadata": {},
   "source": [
    "## Strrrretch goal: your turn\n",
    "\n",
    "You may notice that we can continue the \"widening\" process further, by making columns for each `Country`'s data and having `Year` the only column left from our original frame\n",
    "\n",
    "Let's do that\n",
    "\n",
    "Create 15 new columns for each row, 3 of the data columns each for each of the five countries\n",
    "\n",
    "Call each new column `\"Country+existing data column name\"`\n",
    "\n",
    "Use whichever method you think is fastest, but apply the method dynamically (eg write the same code 15 times with some values changed)\n",
    "\n",
    "Drop the `Country` column and the three data columns after you're done, so that the frame is just `Year` and the fifteen new data columns\n",
    "\n",
    "Drop the duplicated rows, and check your work!"
   ]
  },
  {
   "cell_type": "code",
   "execution_count": 21,
   "metadata": {},
   "outputs": [],
   "source": [
    "#Your code here"
   ]
  },
  {
   "cell_type": "code",
   "execution_count": 24,
   "metadata": {},
   "outputs": [],
   "source": [
    "#run this cell to test your work\n",
    "run_test(econ_stats, 'stretch_goal')"
   ]
  },
  {
   "cell_type": "code",
   "execution_count": null,
   "metadata": {},
   "outputs": [],
   "source": []
  },
  {
   "cell_type": "code",
   "execution_count": null,
   "metadata": {},
   "outputs": [],
   "source": []
  }
 ],
 "metadata": {
  "kernelspec": {
   "display_name": "learn-env",
   "language": "python",
   "name": "learn-env"
  },
  "language_info": {
   "codemirror_mode": {
    "name": "ipython",
    "version": 3
   },
   "file_extension": ".py",
   "mimetype": "text/x-python",
   "name": "python",
   "nbconvert_exporter": "python",
   "pygments_lexer": "ipython3",
   "version": "3.6.9"
  }
 },
 "nbformat": 4,
 "nbformat_minor": 4
}
